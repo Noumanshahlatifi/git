{
 "cells": [
  {
   "cell_type": "code",
   "execution_count": 3,
   "metadata": {},
   "outputs": [
    {
     "name": "stdout",
     "output_type": "stream",
     "text": [
      "enteryour age30\n",
      "Processing....\n",
      "Do you have CNIC.....y/NY\n",
      "Is your name in voting list.....Y/NY\n",
      "Congrats....You can vote...\n"
     ]
    }
   ],
   "source": [
    "age = int(input(\"enteryour age\"))\n",
    "elig = \"\"\n",
    "namecheck = \"\"\n",
    "if age >= 18:\n",
    "    print (\"Processing....\")\n",
    "    elig = input(\"Do you have CNIC.....y/N\")\n",
    "    if elig == \"Y\":\n",
    "        namecheck = input(\"Is your name in voting list.....Y/N\")\n",
    "        if namecheck == \"Y\":\n",
    "            print(\"Congrats....You can vote...\")\n",
    "        else:\n",
    "            print(\"Try next year\")\n",
    "    else:\n",
    "         print(\"Bring your CNIC\")\n",
    "else:\n",
    "    print(\"You are too small kid\")"
   ]
  },
  {
   "cell_type": "code",
   "execution_count": null,
   "metadata": {},
   "outputs": [],
   "source": []
  }
 ],
 "metadata": {
  "kernelspec": {
   "display_name": "Python 3",
   "language": "python",
   "name": "python3"
  },
  "language_info": {
   "codemirror_mode": {
    "name": "ipython",
    "version": 3
   },
   "file_extension": ".py",
   "mimetype": "text/x-python",
   "name": "python",
   "nbconvert_exporter": "python",
   "pygments_lexer": "ipython3",
   "version": "3.7.3"
  }
 },
 "nbformat": 4,
 "nbformat_minor": 2
}
